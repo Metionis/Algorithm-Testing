{
 "cells": [
  {
   "cell_type": "code",
   "execution_count": 1,
   "metadata": {},
   "outputs": [],
   "source": [
    "s = []\n",
    "s.append('orange')\n",
    "s.append('apple')\n",
    "s.append('pine-apple')\n",
    "s.append('nugget')"
   ]
  },
  {
   "cell_type": "code",
   "execution_count": 11,
   "metadata": {},
   "outputs": [],
   "source": [
    "class Stack:\n",
    "    def __init__(self):\n",
    "        self.items = []\n",
    "\n",
    "    def is_empty(self):\n",
    "        return len(self.items) == 0\n",
    "\n",
    "    def push(self, item):\n",
    "        self.items.append(item)\n",
    "\n",
    "    def pop(self):\n",
    "        if not self.is_empty():\n",
    "            return self.items.pop()\n",
    "        else:\n",
    "            raise IndexError(\"pop from an empty stack\")\n",
    "\n",
    "    def peek(self):\n",
    "        if not self.is_empty():\n",
    "            return self.items[-1]\n",
    "        else:\n",
    "            raise IndexError(\"peek from an empty stack\")\n",
    "\n",
    "    def size(self):\n",
    "        return len(self.items)\n",
    "    \n",
    "    def insert_at(stack, index, value):\n",
    "        if index == stack.size():\n",
    "            stack.push(value)\n",
    "        else:\n",
    "            temp_stack = Stack()\n",
    "\n",
    "            # Pop items from the original stack until reaching the desired index\n",
    "            while stack.size() > index:\n",
    "                temp_stack.push(stack.pop())\n",
    "\n",
    "            # Push the new item onto the original stack\n",
    "            stack.push(value)\n",
    "\n",
    "            # Push back the popped items from the temporary stack\n",
    "            while not temp_stack.is_empty():\n",
    "                stack.push(temp_stack.pop())"
   ]
  },
  {
   "cell_type": "code",
   "execution_count": 12,
   "metadata": {},
   "outputs": [
    {
     "name": "stdout",
     "output_type": "stream",
     "text": [
      "Stack: [1, 2, 3]\n",
      "Peek: 3\n",
      "Pop: 3\n",
      "Stack after pop: [1, 2]\n",
      "Size: 2\n",
      "Is the stack empty? False\n",
      "Stack after insertion: [1, 2, 5]\n"
     ]
    }
   ],
   "source": [
    "# Example usage:\n",
    "stack = Stack()\n",
    "\n",
    "stack.push(1)\n",
    "stack.push(2)\n",
    "stack.push(3)\n",
    "\n",
    "print(\"Stack:\", stack.items)\n",
    "\n",
    "print(\"Peek:\", stack.peek())\n",
    "\n",
    "print(\"Pop:\", stack.pop())\n",
    "print(\"Stack after pop:\", stack.items)\n",
    "\n",
    "print(\"Size:\", stack.size())\n",
    "\n",
    "print(\"Is the stack empty?\", stack.is_empty())\n",
    "\n",
    "stack.insert_at(3, 5)\n",
    "\n",
    "print(\"Stack after insertion:\", stack.items)"
   ]
  }
 ],
 "metadata": {
  "kernelspec": {
   "display_name": "Python 3",
   "language": "python",
   "name": "python3"
  },
  "language_info": {
   "codemirror_mode": {
    "name": "ipython",
    "version": 3
   },
   "file_extension": ".py",
   "mimetype": "text/x-python",
   "name": "python",
   "nbconvert_exporter": "python",
   "pygments_lexer": "ipython3",
   "version": "3.10.13"
  }
 },
 "nbformat": 4,
 "nbformat_minor": 2
}
